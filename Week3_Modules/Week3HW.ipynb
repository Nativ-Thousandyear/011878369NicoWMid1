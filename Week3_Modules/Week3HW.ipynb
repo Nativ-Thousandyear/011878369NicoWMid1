{
  "cells": [
    {
      "cell_type": "markdown",
      "metadata": {
        "id": "qXWdGD37Jd-g"
      },
      "source": [
        "# Week 3 Assignment"
      ]
    },
    {
      "cell_type": "markdown",
      "metadata": {
        "id": "mBHpqZFpJd-j"
      },
      "source": [
        "## Problem 1\n",
        "\n",
        "In the cell below, import the math module and use it to compute $\\sqrt{\\pi}$"
      ]
    },
    {
      "cell_type": "code",
      "execution_count": 2,
      "metadata": {
        "id": "ER5B843KJd-j",
        "outputId": "76354ca6-7712-42b4-9874-82c6958e10f9",
        "colab": {
          "base_uri": "https://localhost:8080/"
        }
      },
      "outputs": [
        {
          "output_type": "stream",
          "name": "stdout",
          "text": [
            "1.7724538509055159\n"
          ]
        }
      ],
      "source": [
        "import math\n",
        "square_root_of_pi = math.sqrt(math.pi)\n",
        "print(square_root_of_pi)"
      ]
    },
    {
      "cell_type": "markdown",
      "metadata": {
        "id": "hLa3oF2QJd-k"
      },
      "source": [
        "## Problem 2\n",
        "\n",
        "In the cell below, import the randint function from the random module and use it to simulate rolling a six-sided die. Print the result."
      ]
    },
    {
      "cell_type": "code",
      "execution_count": 3,
      "metadata": {
        "id": "5uepMlqmJd-k",
        "outputId": "c9ee64a7-a97a-482b-b8e8-7bc01cc92ec4",
        "colab": {
          "base_uri": "https://localhost:8080/"
        }
      },
      "outputs": [
        {
          "output_type": "execute_result",
          "data": {
            "text/plain": [
              "4"
            ]
          },
          "metadata": {},
          "execution_count": 3
        }
      ],
      "source": [
        "from random import randint\n",
        "sixroll_result = randint(1, 6)\n",
        "sixroll_result"
      ]
    },
    {
      "cell_type": "markdown",
      "metadata": {
        "id": "00AoWraKJd-l"
      },
      "source": [
        "## Problem 3\n",
        "\n",
        "Scroll through the packages on the pypi.org index and find one that looks interesting to you. In the cell below, describe the package and what it is used for."
      ]
    },
    {
      "cell_type": "code",
      "execution_count": 4,
      "metadata": {
        "id": "-omxA7rYJd-l",
        "outputId": "0a7e1a15-0c37-46e3-a583-3399d1ef56f9",
        "colab": {
          "base_uri": "https://localhost:8080/",
          "height": 124
        }
      },
      "outputs": [
        {
          "output_type": "error",
          "ename": "SyntaxError",
          "evalue": "invalid syntax (<ipython-input-4-d191a971f957>, line 1)",
          "traceback": [
            "\u001b[0;36m  File \u001b[0;32m\"<ipython-input-4-d191a971f957>\"\u001b[0;36m, line \u001b[0;32m1\u001b[0m\n\u001b[0;31m    One package that interest me is the PCRA - Python create React App Package. it will create the initial structure for a React/Material-UI application. I often use React for programming and this can be helpful because it installs Transcrypt and Flask and create needed virtual environments.\u001b[0m\n\u001b[0m        ^\u001b[0m\n\u001b[0;31mSyntaxError\u001b[0m\u001b[0;31m:\u001b[0m invalid syntax\n"
          ]
        }
      ],
      "source": [
        "One package that interest me is the PCRA - Python create React App Package. it will create the initial structure for a React/Material-UI application. I often use React for programming and this can be helpful because it installs Transcrypt and Flask and create needed virtual environments."
      ]
    },
    {
      "cell_type": "markdown",
      "metadata": {
        "id": "QdcQvGIMJd-l"
      },
      "source": [
        "## Problem 4\n",
        "\n",
        "In the cell below use the Faker package to generate and print three fake sentences."
      ]
    },
    {
      "cell_type": "code",
      "execution_count": null,
      "metadata": {
        "id": "36IVBzQzJd-m"
      },
      "outputs": [],
      "source": [
        "from faker import Faker\n",
        "fake = Faker()\n",
        "for _ in range(3):\n",
        "  print(fake.sentence())"
      ]
    },
    {
      "cell_type": "markdown",
      "metadata": {
        "id": "8JEkhCweJd-m"
      },
      "source": [
        "## Problem 5\n",
        "The cells below contain code that generates errors when run. Write a brief description of the problem and modify the code so that the cells exectute properly."
      ]
    },
    {
      "cell_type": "code",
      "execution_count": 5,
      "metadata": {
        "id": "jPeYkXgtJd-n",
        "outputId": "8bebed1c-e3b6-4769-fd35-6b5de1f94bfb",
        "colab": {
          "base_uri": "https://localhost:8080/"
        }
      },
      "outputs": [
        {
          "output_type": "execute_result",
          "data": {
            "text/plain": [
              "27"
            ]
          },
          "metadata": {},
          "execution_count": 5
        }
      ],
      "source": [
        "3*(4+5) #this code is missing a  multiplication operator which help multiply 3 times the integers in the parenthesis"
      ]
    },
    {
      "cell_type": "code",
      "execution_count": 6,
      "metadata": {
        "id": "Y1N3LxtnJd-o",
        "outputId": "c3cf01b9-d0ad-42b2-bdcd-be9730feb915",
        "colab": {
          "base_uri": "https://localhost:8080/"
        }
      },
      "outputs": [
        {
          "output_type": "execute_result",
          "data": {
            "text/plain": [
              "3"
            ]
          },
          "metadata": {},
          "execution_count": 6
        }
      ],
      "source": [
        "1 + int('2') # this code is adding a int and string which is not an option in python"
      ]
    },
    {
      "cell_type": "code",
      "execution_count": 7,
      "metadata": {
        "id": "PmbXplfoJd-q",
        "outputId": "167111b3-bc87-4d6e-e00d-73053b2c53b2",
        "colab": {
          "base_uri": "https://localhost:8080/"
        }
      },
      "outputs": [
        {
          "output_type": "execute_result",
          "data": {
            "text/plain": [
              "0.5403023058681398"
            ]
          },
          "metadata": {},
          "execution_count": 7
        }
      ],
      "source": [
        "import math\n",
        "math.cos(1)\n",
        "#cos(1) wont run because cos is not defined in the program"
      ]
    },
    {
      "cell_type": "code",
      "execution_count": null,
      "metadata": {
        "id": "j4niG4aqJd-r"
      },
      "outputs": [],
      "source": []
    }
  ],
  "metadata": {
    "kernelspec": {
      "display_name": "Python 3",
      "language": "python",
      "name": "python3"
    },
    "language_info": {
      "codemirror_mode": {
        "name": "ipython",
        "version": 3
      },
      "file_extension": ".py",
      "mimetype": "text/x-python",
      "name": "python",
      "nbconvert_exporter": "python",
      "pygments_lexer": "ipython3",
      "version": "3.6.5"
    },
    "colab": {
      "provenance": []
    }
  },
  "nbformat": 4,
  "nbformat_minor": 0
}